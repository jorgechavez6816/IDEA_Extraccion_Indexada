{
 "cells": [
  {
   "cell_type": "code",
   "execution_count": 1,
   "metadata": {},
   "outputs": [],
   "source": [
    "import win32com.client as win32ComClient\n",
    "\n",
    "if __name__ == \"__main__\":\n",
    "    try:\n",
    "        dbName = \"Ejemplo-Detalle de ventas.IMD\"\n",
    "        idea = win32ComClient.Dispatch(dispatch=\"Idea.IdeaClient\")\n",
    "        db = idea.OpenDatabase(dbName)\n",
    "        task = db.IndexedExtraction()\n",
    "        task.IncludeAllFields()\n",
    "        WI_IE_NUMFLD=1\n",
    "        WI_IE_CHARFLD=2\n",
    "        WI_IE_TIMEFLD=3\n",
    "        task.criteria = \"\"\n",
    "        task.FieldToUse =(\"COD_PROD\")\n",
    "        task.FieldValueIs2(1, \"04\", WI_IE_CHARFLD)\n",
    "        task.CreateVirtualDatabase=False\n",
    "        resultdbName = \"Extraccion_Index_01.IMD\"\n",
    "        task.OutputFilename = (resultdbName)\n",
    "        task.PerformTask()\n",
    "    finally:\n",
    "        task = None\n",
    "        db = None\n",
    "        idea = None"
   ]
  },
  {
   "cell_type": "code",
   "execution_count": null,
   "metadata": {},
   "outputs": [],
   "source": []
  }
 ],
 "metadata": {
  "kernelspec": {
   "display_name": "Python 3",
   "language": "python",
   "name": "python3"
  },
  "language_info": {
   "codemirror_mode": {
    "name": "ipython",
    "version": 3
   },
   "file_extension": ".py",
   "mimetype": "text/x-python",
   "name": "python",
   "nbconvert_exporter": "python",
   "pygments_lexer": "ipython3",
   "version": "3.7.6"
  }
 },
 "nbformat": 4,
 "nbformat_minor": 4
}
